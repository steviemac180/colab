{
  "nbformat": 4,
  "nbformat_minor": 0,
  "metadata": {
    "colab": {
      "name": "deep learning sample.ipynb",
      "provenance": [],
      "authorship_tag": "ABX9TyP6cmvcYV9LS5Ry1rxlbpnN",
      "include_colab_link": true
    },
    "kernelspec": {
      "name": "python3",
      "display_name": "Python 3"
    }
  },
  "cells": [
    {
      "cell_type": "markdown",
      "metadata": {
        "id": "view-in-github",
        "colab_type": "text"
      },
      "source": [
        "<a href=\"https://colab.research.google.com/github/steviemac180/colab/blob/main/deep_learning_sample.ipynb\" target=\"_parent\"><img src=\"https://colab.research.google.com/assets/colab-badge.svg\" alt=\"Open In Colab\"/></a>"
      ]
    },
    {
      "cell_type": "code",
      "metadata": {
        "id": "ZfJqoLWlHzf_"
      },
      "source": [
        "import numpy as np\n",
        "import tensorflow as tf\n",
        "from tensorflow import keras\n",
        "from numpy import loadtxt\n",
        "from keras.models import Sequential\n",
        "from keras.layers import Dense"
      ],
      "execution_count": 2,
      "outputs": []
    },
    {
      "cell_type": "code",
      "metadata": {
        "id": "1qvdj9LQIDtf"
      },
      "source": [
        "dataset = loadtxt('/content/pima-indians-diabetes.data.csv', delimiter=',')"
      ],
      "execution_count": 4,
      "outputs": []
    },
    {
      "cell_type": "code",
      "metadata": {
        "colab": {
          "base_uri": "https://localhost:8080/"
        },
        "id": "cwqPUyW3KFa3",
        "outputId": "206b55c8-103d-4ebe-80e1-78fb640d14f9"
      },
      "source": [
        "dataset.shape"
      ],
      "execution_count": 8,
      "outputs": [
        {
          "output_type": "execute_result",
          "data": {
            "text/plain": [
              "(768, 9)"
            ]
          },
          "metadata": {
            "tags": []
          },
          "execution_count": 8
        }
      ]
    },
    {
      "cell_type": "code",
      "metadata": {
        "id": "Dki9df7lKRKj"
      },
      "source": [
        "X = dataset[:,0:8]\n",
        "y = dataset[:,8]"
      ],
      "execution_count": 14,
      "outputs": []
    },
    {
      "cell_type": "code",
      "metadata": {
        "id": "IAnSJ6FKKsGo"
      },
      "source": [
        "model = Sequential()\n",
        "model.add(Dense(12, input_dim=8, activation='relu'))\n",
        "model.add(Dense(8, activation='relu'))\n",
        "model.add(Dense(1, activation = 'sigmoid'))"
      ],
      "execution_count": 17,
      "outputs": []
    },
    {
      "cell_type": "code",
      "metadata": {
        "id": "-cWpjLshM7eX"
      },
      "source": [
        "model.compile(loss='binary_crossentropy', optimizer='adam', metrics=['accuracy'])"
      ],
      "execution_count": 19,
      "outputs": []
    },
    {
      "cell_type": "code",
      "metadata": {
        "colab": {
          "base_uri": "https://localhost:8080/"
        },
        "id": "eFuHS7DmNjAz",
        "outputId": "a682978b-627f-4668-d862-26642518d548"
      },
      "source": [
        "model.fit(X,y, epochs=150, batch_size=16)"
      ],
      "execution_count": 20,
      "outputs": [
        {
          "output_type": "stream",
          "text": [
            "Epoch 1/150\n",
            "48/48 [==============================] - 1s 968us/step - loss: 20.8531 - accuracy: 0.3449\n",
            "Epoch 2/150\n",
            "48/48 [==============================] - 0s 1ms/step - loss: 2.9185 - accuracy: 0.5783\n",
            "Epoch 3/150\n",
            "48/48 [==============================] - 0s 1ms/step - loss: 1.3999 - accuracy: 0.6213\n",
            "Epoch 4/150\n",
            "48/48 [==============================] - 0s 2ms/step - loss: 1.0504 - accuracy: 0.6428\n",
            "Epoch 5/150\n",
            "48/48 [==============================] - 0s 972us/step - loss: 1.0687 - accuracy: 0.6558\n",
            "Epoch 6/150\n",
            "48/48 [==============================] - 0s 1ms/step - loss: 0.9834 - accuracy: 0.6561\n",
            "Epoch 7/150\n",
            "48/48 [==============================] - 0s 2ms/step - loss: 0.7616 - accuracy: 0.6987\n",
            "Epoch 8/150\n",
            "48/48 [==============================] - 0s 2ms/step - loss: 0.8269 - accuracy: 0.6440\n",
            "Epoch 9/150\n",
            "48/48 [==============================] - 0s 2ms/step - loss: 0.7037 - accuracy: 0.6731\n",
            "Epoch 10/150\n",
            "48/48 [==============================] - 0s 2ms/step - loss: 0.6538 - accuracy: 0.6835\n",
            "Epoch 11/150\n",
            "48/48 [==============================] - 0s 2ms/step - loss: 0.6623 - accuracy: 0.6604\n",
            "Epoch 12/150\n",
            "48/48 [==============================] - 0s 2ms/step - loss: 0.6758 - accuracy: 0.6505\n",
            "Epoch 13/150\n",
            "48/48 [==============================] - 0s 2ms/step - loss: 0.7015 - accuracy: 0.6274\n",
            "Epoch 14/150\n",
            "48/48 [==============================] - 0s 2ms/step - loss: 0.6003 - accuracy: 0.6520\n",
            "Epoch 15/150\n",
            "48/48 [==============================] - 0s 2ms/step - loss: 0.6151 - accuracy: 0.6546\n",
            "Epoch 16/150\n",
            "48/48 [==============================] - 0s 4ms/step - loss: 0.6533 - accuracy: 0.6494\n",
            "Epoch 17/150\n",
            "48/48 [==============================] - 0s 2ms/step - loss: 0.6489 - accuracy: 0.6674\n",
            "Epoch 18/150\n",
            "48/48 [==============================] - 0s 2ms/step - loss: 0.5897 - accuracy: 0.6839\n",
            "Epoch 19/150\n",
            "48/48 [==============================] - 0s 2ms/step - loss: 0.6057 - accuracy: 0.6755\n",
            "Epoch 20/150\n",
            "48/48 [==============================] - 0s 2ms/step - loss: 0.5819 - accuracy: 0.6813\n",
            "Epoch 21/150\n",
            "48/48 [==============================] - 0s 2ms/step - loss: 0.6029 - accuracy: 0.6978\n",
            "Epoch 22/150\n",
            "48/48 [==============================] - 0s 2ms/step - loss: 0.6202 - accuracy: 0.6722\n",
            "Epoch 23/150\n",
            "48/48 [==============================] - 0s 2ms/step - loss: 0.5565 - accuracy: 0.7130\n",
            "Epoch 24/150\n",
            "48/48 [==============================] - 0s 3ms/step - loss: 0.6757 - accuracy: 0.6749\n",
            "Epoch 25/150\n",
            "48/48 [==============================] - 0s 2ms/step - loss: 0.6166 - accuracy: 0.6670\n",
            "Epoch 26/150\n",
            "48/48 [==============================] - 0s 2ms/step - loss: 0.5915 - accuracy: 0.6999\n",
            "Epoch 27/150\n",
            "48/48 [==============================] - 0s 2ms/step - loss: 0.5538 - accuracy: 0.6959\n",
            "Epoch 28/150\n",
            "48/48 [==============================] - 0s 2ms/step - loss: 0.5727 - accuracy: 0.7057\n",
            "Epoch 29/150\n",
            "48/48 [==============================] - 0s 2ms/step - loss: 0.5548 - accuracy: 0.7048\n",
            "Epoch 30/150\n",
            "48/48 [==============================] - 0s 2ms/step - loss: 0.6318 - accuracy: 0.6754\n",
            "Epoch 31/150\n",
            "48/48 [==============================] - 0s 2ms/step - loss: 0.5719 - accuracy: 0.7001\n",
            "Epoch 32/150\n",
            "48/48 [==============================] - 0s 2ms/step - loss: 0.5623 - accuracy: 0.7217\n",
            "Epoch 33/150\n",
            "48/48 [==============================] - 0s 2ms/step - loss: 0.5721 - accuracy: 0.6934\n",
            "Epoch 34/150\n",
            "48/48 [==============================] - 0s 2ms/step - loss: 0.5993 - accuracy: 0.6694\n",
            "Epoch 35/150\n",
            "48/48 [==============================] - 0s 2ms/step - loss: 0.6000 - accuracy: 0.7264\n",
            "Epoch 36/150\n",
            "48/48 [==============================] - 0s 2ms/step - loss: 0.5742 - accuracy: 0.6896\n",
            "Epoch 37/150\n",
            "48/48 [==============================] - 0s 3ms/step - loss: 0.5266 - accuracy: 0.7350\n",
            "Epoch 38/150\n",
            "48/48 [==============================] - 0s 2ms/step - loss: 0.5887 - accuracy: 0.6811\n",
            "Epoch 39/150\n",
            "48/48 [==============================] - 0s 2ms/step - loss: 0.5314 - accuracy: 0.7272\n",
            "Epoch 40/150\n",
            "48/48 [==============================] - 0s 2ms/step - loss: 0.5362 - accuracy: 0.7444\n",
            "Epoch 41/150\n",
            "48/48 [==============================] - 0s 2ms/step - loss: 0.5740 - accuracy: 0.7362\n",
            "Epoch 42/150\n",
            "48/48 [==============================] - 0s 2ms/step - loss: 0.5550 - accuracy: 0.7401\n",
            "Epoch 43/150\n",
            "48/48 [==============================] - 0s 2ms/step - loss: 0.5750 - accuracy: 0.7279\n",
            "Epoch 44/150\n",
            "48/48 [==============================] - 0s 2ms/step - loss: 0.5391 - accuracy: 0.7383\n",
            "Epoch 45/150\n",
            "48/48 [==============================] - 0s 2ms/step - loss: 0.5952 - accuracy: 0.6871\n",
            "Epoch 46/150\n",
            "48/48 [==============================] - 0s 2ms/step - loss: 0.5967 - accuracy: 0.6896\n",
            "Epoch 47/150\n",
            "48/48 [==============================] - 0s 2ms/step - loss: 0.5707 - accuracy: 0.7062\n",
            "Epoch 48/150\n",
            "48/48 [==============================] - 0s 2ms/step - loss: 0.5288 - accuracy: 0.7289\n",
            "Epoch 49/150\n",
            "48/48 [==============================] - 0s 2ms/step - loss: 0.5598 - accuracy: 0.7212\n",
            "Epoch 50/150\n",
            "48/48 [==============================] - 0s 2ms/step - loss: 0.5744 - accuracy: 0.7003\n",
            "Epoch 51/150\n",
            "48/48 [==============================] - 0s 2ms/step - loss: 0.5532 - accuracy: 0.7327\n",
            "Epoch 52/150\n",
            "48/48 [==============================] - 0s 2ms/step - loss: 0.5518 - accuracy: 0.7046\n",
            "Epoch 53/150\n",
            "48/48 [==============================] - 0s 2ms/step - loss: 0.5334 - accuracy: 0.7537\n",
            "Epoch 54/150\n",
            "48/48 [==============================] - 0s 2ms/step - loss: 0.5881 - accuracy: 0.6918\n",
            "Epoch 55/150\n",
            "48/48 [==============================] - 0s 2ms/step - loss: 0.6130 - accuracy: 0.6681\n",
            "Epoch 56/150\n",
            "48/48 [==============================] - 0s 2ms/step - loss: 0.5778 - accuracy: 0.7171\n",
            "Epoch 57/150\n",
            "48/48 [==============================] - 0s 2ms/step - loss: 0.5174 - accuracy: 0.7628\n",
            "Epoch 58/150\n",
            "48/48 [==============================] - 0s 2ms/step - loss: 0.5453 - accuracy: 0.7212\n",
            "Epoch 59/150\n",
            "48/48 [==============================] - 0s 2ms/step - loss: 0.5466 - accuracy: 0.7367\n",
            "Epoch 60/150\n",
            "48/48 [==============================] - 0s 2ms/step - loss: 0.5475 - accuracy: 0.7196\n",
            "Epoch 61/150\n",
            "48/48 [==============================] - 0s 2ms/step - loss: 0.5383 - accuracy: 0.7438\n",
            "Epoch 62/150\n",
            "48/48 [==============================] - 0s 2ms/step - loss: 0.5586 - accuracy: 0.7209\n",
            "Epoch 63/150\n",
            "48/48 [==============================] - 0s 2ms/step - loss: 0.5227 - accuracy: 0.7447\n",
            "Epoch 64/150\n",
            "48/48 [==============================] - 0s 2ms/step - loss: 0.5737 - accuracy: 0.6934\n",
            "Epoch 65/150\n",
            "48/48 [==============================] - 0s 2ms/step - loss: 0.5166 - accuracy: 0.7433\n",
            "Epoch 66/150\n",
            "48/48 [==============================] - 0s 2ms/step - loss: 0.4952 - accuracy: 0.7698\n",
            "Epoch 67/150\n",
            "48/48 [==============================] - 0s 2ms/step - loss: 0.5508 - accuracy: 0.7331\n",
            "Epoch 68/150\n",
            "48/48 [==============================] - 0s 2ms/step - loss: 0.5373 - accuracy: 0.7551\n",
            "Epoch 69/150\n",
            "48/48 [==============================] - 0s 2ms/step - loss: 0.5277 - accuracy: 0.7556\n",
            "Epoch 70/150\n",
            "48/48 [==============================] - 0s 2ms/step - loss: 0.5606 - accuracy: 0.7247\n",
            "Epoch 71/150\n",
            "48/48 [==============================] - 0s 2ms/step - loss: 0.5579 - accuracy: 0.7536\n",
            "Epoch 72/150\n",
            "48/48 [==============================] - 0s 2ms/step - loss: 0.5668 - accuracy: 0.7452\n",
            "Epoch 73/150\n",
            "48/48 [==============================] - 0s 3ms/step - loss: 0.5350 - accuracy: 0.7364\n",
            "Epoch 74/150\n",
            "48/48 [==============================] - 0s 2ms/step - loss: 0.5071 - accuracy: 0.7689\n",
            "Epoch 75/150\n",
            "48/48 [==============================] - 0s 2ms/step - loss: 0.5519 - accuracy: 0.7015\n",
            "Epoch 76/150\n",
            "48/48 [==============================] - 0s 2ms/step - loss: 0.5634 - accuracy: 0.7194\n",
            "Epoch 77/150\n",
            "48/48 [==============================] - 0s 2ms/step - loss: 0.5185 - accuracy: 0.7466\n",
            "Epoch 78/150\n",
            "48/48 [==============================] - 0s 2ms/step - loss: 0.5145 - accuracy: 0.7573\n",
            "Epoch 79/150\n",
            "48/48 [==============================] - 0s 3ms/step - loss: 0.5579 - accuracy: 0.7106\n",
            "Epoch 80/150\n",
            "48/48 [==============================] - 0s 3ms/step - loss: 0.5264 - accuracy: 0.7434\n",
            "Epoch 81/150\n",
            "48/48 [==============================] - 0s 2ms/step - loss: 0.5133 - accuracy: 0.7391\n",
            "Epoch 82/150\n",
            "48/48 [==============================] - 0s 3ms/step - loss: 0.5445 - accuracy: 0.7338\n",
            "Epoch 83/150\n",
            "48/48 [==============================] - 0s 3ms/step - loss: 0.5316 - accuracy: 0.7317\n",
            "Epoch 84/150\n",
            "48/48 [==============================] - 0s 2ms/step - loss: 0.5127 - accuracy: 0.7762\n",
            "Epoch 85/150\n",
            "48/48 [==============================] - 0s 3ms/step - loss: 0.5136 - accuracy: 0.7695\n",
            "Epoch 86/150\n",
            "48/48 [==============================] - 0s 3ms/step - loss: 0.5095 - accuracy: 0.7751\n",
            "Epoch 87/150\n",
            "48/48 [==============================] - 0s 3ms/step - loss: 0.5268 - accuracy: 0.7229\n",
            "Epoch 88/150\n",
            "48/48 [==============================] - 0s 3ms/step - loss: 0.5340 - accuracy: 0.7385\n",
            "Epoch 89/150\n",
            "48/48 [==============================] - 0s 2ms/step - loss: 0.5230 - accuracy: 0.7453\n",
            "Epoch 90/150\n",
            "48/48 [==============================] - 0s 3ms/step - loss: 0.5581 - accuracy: 0.7187\n",
            "Epoch 91/150\n",
            "48/48 [==============================] - 0s 3ms/step - loss: 0.5479 - accuracy: 0.7373\n",
            "Epoch 92/150\n",
            "48/48 [==============================] - 0s 3ms/step - loss: 0.5209 - accuracy: 0.7423\n",
            "Epoch 93/150\n",
            "48/48 [==============================] - 0s 2ms/step - loss: 0.5077 - accuracy: 0.7587\n",
            "Epoch 94/150\n",
            "48/48 [==============================] - 0s 2ms/step - loss: 0.5349 - accuracy: 0.7529\n",
            "Epoch 95/150\n",
            "48/48 [==============================] - 0s 2ms/step - loss: 0.5040 - accuracy: 0.7454\n",
            "Epoch 96/150\n",
            "48/48 [==============================] - 0s 1ms/step - loss: 0.5655 - accuracy: 0.7391\n",
            "Epoch 97/150\n",
            "48/48 [==============================] - 0s 1ms/step - loss: 0.5137 - accuracy: 0.7546\n",
            "Epoch 98/150\n",
            "48/48 [==============================] - 0s 2ms/step - loss: 0.5359 - accuracy: 0.7282\n",
            "Epoch 99/150\n",
            "48/48 [==============================] - 0s 1ms/step - loss: 0.5213 - accuracy: 0.7580\n",
            "Epoch 100/150\n",
            "48/48 [==============================] - 0s 2ms/step - loss: 0.5134 - accuracy: 0.7191\n",
            "Epoch 101/150\n",
            "48/48 [==============================] - 0s 1ms/step - loss: 0.5024 - accuracy: 0.7752\n",
            "Epoch 102/150\n",
            "48/48 [==============================] - 0s 2ms/step - loss: 0.5141 - accuracy: 0.7351\n",
            "Epoch 103/150\n",
            "48/48 [==============================] - 0s 1ms/step - loss: 0.5357 - accuracy: 0.7411\n",
            "Epoch 104/150\n",
            "48/48 [==============================] - 0s 1ms/step - loss: 0.4845 - accuracy: 0.7624\n",
            "Epoch 105/150\n",
            "48/48 [==============================] - 0s 1ms/step - loss: 0.5424 - accuracy: 0.7511\n",
            "Epoch 106/150\n",
            "48/48 [==============================] - 0s 2ms/step - loss: 0.5289 - accuracy: 0.7655\n",
            "Epoch 107/150\n",
            "48/48 [==============================] - 0s 1ms/step - loss: 0.5090 - accuracy: 0.7433\n",
            "Epoch 108/150\n",
            "48/48 [==============================] - 0s 2ms/step - loss: 0.5003 - accuracy: 0.7475\n",
            "Epoch 109/150\n",
            "48/48 [==============================] - 0s 1ms/step - loss: 0.5176 - accuracy: 0.7515\n",
            "Epoch 110/150\n",
            "48/48 [==============================] - 0s 1ms/step - loss: 0.4655 - accuracy: 0.7811\n",
            "Epoch 111/150\n",
            "48/48 [==============================] - 0s 1ms/step - loss: 0.5006 - accuracy: 0.7484\n",
            "Epoch 112/150\n",
            "48/48 [==============================] - 0s 1ms/step - loss: 0.5135 - accuracy: 0.7415\n",
            "Epoch 113/150\n",
            "48/48 [==============================] - 0s 1ms/step - loss: 0.5362 - accuracy: 0.7489\n",
            "Epoch 114/150\n",
            "48/48 [==============================] - 0s 2ms/step - loss: 0.4938 - accuracy: 0.7393\n",
            "Epoch 115/150\n",
            "48/48 [==============================] - 0s 1ms/step - loss: 0.5193 - accuracy: 0.7335\n",
            "Epoch 116/150\n",
            "48/48 [==============================] - 0s 1ms/step - loss: 0.5263 - accuracy: 0.7447\n",
            "Epoch 117/150\n",
            "48/48 [==============================] - 0s 2ms/step - loss: 0.5070 - accuracy: 0.7399\n",
            "Epoch 118/150\n",
            "48/48 [==============================] - 0s 2ms/step - loss: 0.5741 - accuracy: 0.7213\n",
            "Epoch 119/150\n",
            "48/48 [==============================] - 0s 2ms/step - loss: 0.5169 - accuracy: 0.7518\n",
            "Epoch 120/150\n",
            "48/48 [==============================] - 0s 2ms/step - loss: 0.5396 - accuracy: 0.7340\n",
            "Epoch 121/150\n",
            "48/48 [==============================] - 0s 2ms/step - loss: 0.5284 - accuracy: 0.7549\n",
            "Epoch 122/150\n",
            "48/48 [==============================] - 0s 2ms/step - loss: 0.5170 - accuracy: 0.7368\n",
            "Epoch 123/150\n",
            "48/48 [==============================] - 0s 1ms/step - loss: 0.5525 - accuracy: 0.7304\n",
            "Epoch 124/150\n",
            "48/48 [==============================] - 0s 1ms/step - loss: 0.4903 - accuracy: 0.7674\n",
            "Epoch 125/150\n",
            "48/48 [==============================] - 0s 1ms/step - loss: 0.5338 - accuracy: 0.7553\n",
            "Epoch 126/150\n",
            "48/48 [==============================] - 0s 1ms/step - loss: 0.5036 - accuracy: 0.7586\n",
            "Epoch 127/150\n",
            "48/48 [==============================] - 0s 2ms/step - loss: 0.5096 - accuracy: 0.7656\n",
            "Epoch 128/150\n",
            "48/48 [==============================] - 0s 2ms/step - loss: 0.5050 - accuracy: 0.7730\n",
            "Epoch 129/150\n",
            "48/48 [==============================] - 0s 2ms/step - loss: 0.5077 - accuracy: 0.7393\n",
            "Epoch 130/150\n",
            "48/48 [==============================] - 0s 1ms/step - loss: 0.4998 - accuracy: 0.7710\n",
            "Epoch 131/150\n",
            "48/48 [==============================] - 0s 1ms/step - loss: 0.4718 - accuracy: 0.7815\n",
            "Epoch 132/150\n",
            "48/48 [==============================] - 0s 2ms/step - loss: 0.4902 - accuracy: 0.7631\n",
            "Epoch 133/150\n",
            "48/48 [==============================] - 0s 1ms/step - loss: 0.5137 - accuracy: 0.7442\n",
            "Epoch 134/150\n",
            "48/48 [==============================] - 0s 2ms/step - loss: 0.4860 - accuracy: 0.7592\n",
            "Epoch 135/150\n",
            "48/48 [==============================] - 0s 2ms/step - loss: 0.5254 - accuracy: 0.7475\n",
            "Epoch 136/150\n",
            "48/48 [==============================] - 0s 1ms/step - loss: 0.5464 - accuracy: 0.7244\n",
            "Epoch 137/150\n",
            "48/48 [==============================] - 0s 2ms/step - loss: 0.4523 - accuracy: 0.7856\n",
            "Epoch 138/150\n",
            "48/48 [==============================] - 0s 2ms/step - loss: 0.5336 - accuracy: 0.7272\n",
            "Epoch 139/150\n",
            "48/48 [==============================] - 0s 1ms/step - loss: 0.5146 - accuracy: 0.7520\n",
            "Epoch 140/150\n",
            "48/48 [==============================] - 0s 2ms/step - loss: 0.5265 - accuracy: 0.7687\n",
            "Epoch 141/150\n",
            "48/48 [==============================] - 0s 1ms/step - loss: 0.5141 - accuracy: 0.7588\n",
            "Epoch 142/150\n",
            "48/48 [==============================] - 0s 1ms/step - loss: 0.5029 - accuracy: 0.7697\n",
            "Epoch 143/150\n",
            "48/48 [==============================] - 0s 1ms/step - loss: 0.5257 - accuracy: 0.7430\n",
            "Epoch 144/150\n",
            "48/48 [==============================] - 0s 1ms/step - loss: 0.5193 - accuracy: 0.7356\n",
            "Epoch 145/150\n",
            "48/48 [==============================] - 0s 1ms/step - loss: 0.4681 - accuracy: 0.7948\n",
            "Epoch 146/150\n",
            "48/48 [==============================] - 0s 1ms/step - loss: 0.4895 - accuracy: 0.7485\n",
            "Epoch 147/150\n",
            "48/48 [==============================] - 0s 1ms/step - loss: 0.4657 - accuracy: 0.7965\n",
            "Epoch 148/150\n",
            "48/48 [==============================] - 0s 1ms/step - loss: 0.4880 - accuracy: 0.7559\n",
            "Epoch 149/150\n",
            "48/48 [==============================] - 0s 1ms/step - loss: 0.5154 - accuracy: 0.7487\n",
            "Epoch 150/150\n",
            "48/48 [==============================] - 0s 1ms/step - loss: 0.4923 - accuracy: 0.7645\n"
          ],
          "name": "stdout"
        },
        {
          "output_type": "execute_result",
          "data": {
            "text/plain": [
              "<tensorflow.python.keras.callbacks.History at 0x7fbd10b56190>"
            ]
          },
          "metadata": {
            "tags": []
          },
          "execution_count": 20
        }
      ]
    },
    {
      "cell_type": "code",
      "metadata": {
        "id": "LUdv-t24Ogt0"
      },
      "source": [
        ""
      ],
      "execution_count": null,
      "outputs": []
    }
  ]
}